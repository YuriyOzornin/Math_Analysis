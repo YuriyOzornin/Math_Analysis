{
 "cells": [
  {
   "cell_type": "markdown",
   "id": "91368936-94c7-4929-abc5-ba6bab6708d2",
   "metadata": {},
   "source": [
    "### Практическое задание к лекции No2"
   ]
  },
  {
   "cell_type": "markdown",
   "id": "039cc9d0-c755-4682-a278-7eb636275043",
   "metadata": {},
   "source": [
    "1. Представьте в виде несократимой рациональной дроби:\\\n",
    "а)  0.(216);\\\n",
    "б)  1.0(01)."
   ]
  },
  {
   "cell_type": "markdown",
   "id": "a94fdc30-9147-48ea-b3fb-bda2dc046ff1",
   "metadata": {},
   "source": [
    "a = 0,(216)\\\n",
    "1000a = 216,(216) = 216 + a\\\n",
    "999 a = 216\\\n",
    "a = 216/999 = 24/111 = 8/37\n",
    "\n",
    "\n",
    "b = 1,0(01)\\\n",
    "10b = 10,(01)\\\n",
    "1000b = 1001,(01)\\\n",
    "(10,(01)+991)/10 = 1000b/10 = 100b\\\n",
    "1,0(01) + 99,1 = 100b = b + 99,1\\\n",
    "99b = 99,1\\\n",
    "b = 991/990"
   ]
  },
  {
   "cell_type": "markdown",
   "id": "c0239759-c95e-4cbb-9b73-852df3c60f9f",
   "metadata": {},
   "source": [
    "2. Проверьте любым способом, являются ли данные логические формулы\n",
    "   тавтологией:\n",
    "   \n",
    "а) (A ∨ B) → (B ∨ A̅)\n",
    "\n",
    "Дизъюнкция — это логическая операция, образующая сложное высказывание, истинное тогда, когда истинно ХОТЯ БЫ ОДНО из исходных высказываний. В выражениях обозначается A ∨ B, (иногда A + B).\n",
    "\n",
    "(True ИЛИ True) ТОГДА (True ИЛИ False)\n",
    "получаем\n",
    "True тогда True\n",
    "\n",
    "б) A → (A ∨ (B ∧ A))\n",
    "\n",
    "по закону  ПОГЛОЩЕНИЯ  =  A ∨ B \\\n",
    "True ТОГДА True"
   ]
  },
  {
   "cell_type": "markdown",
   "id": "dea2088d-7f3a-4364-83f5-9ef90f7a32c0",
   "metadata": {},
   "source": [
    "3. Сформулируйте словесно высказывания:\n",
    "\n",
    "где:\\\n",
    " А: сегодня светит солнце;\\\n",
    " В: сегодня сыро;\\\n",
    " С: я поеду на дачу.\n",
    "\n",
    "а) (A̅∨ B) → C̅\n",
    "\n",
    "Если сегодня НЕ светит солнце ИЛИ сегодня сыро, ТО я НЕ поеду на дачу\n",
    "\n",
    "б) C → (A ∨ B)\n",
    "\n",
    "Если я поеду на дачу ТО, сегодня светит солнце ИЛИ сегодня НЕ сыро\n",
    " "
   ]
  },
  {
   "cell_type": "code",
   "execution_count": null,
   "id": "cbbc1c9d-d6ee-4077-8537-ce4f7eed761c",
   "metadata": {},
   "outputs": [],
   "source": []
  }
 ],
 "metadata": {
  "kernelspec": {
   "display_name": "Python 3 (ipykernel)",
   "language": "python",
   "name": "python3"
  },
  "language_info": {
   "codemirror_mode": {
    "name": "ipython",
    "version": 3
   },
   "file_extension": ".py",
   "mimetype": "text/x-python",
   "name": "python",
   "nbconvert_exporter": "python",
   "pygments_lexer": "ipython3",
   "version": "3.9.15"
  }
 },
 "nbformat": 4,
 "nbformat_minor": 5
}

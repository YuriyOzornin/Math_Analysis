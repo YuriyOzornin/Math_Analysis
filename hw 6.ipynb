{
 "cells": [
  {
   "cell_type": "markdown",
   "id": "9b6268ca-b512-4688-a96c-f734165a451c",
   "metadata": {},
   "source": [
    "#### Урок 6. \"Производная функции одной переменной. Часть 1\"\n",
    "#### Тема 6 “Понятие о производной”\n",
    "#### hw 6"
   ]
  },
  {
   "cell_type": "markdown",
   "id": "e082d94f-53ba-4ef2-9063-9f87539857f8",
   "metadata": {},
   "source": [
    "1.Найти производную выражения:\n",
    "\n",
    "a. $$\\sin{x} * \\cos{x}=$$\n",
    "$$\\frac{d}{dx}(\\sin{x} * \\cos{x}) = \\cos^2{x} - \\sin^2{x}=cos(2x)$$\n",
    "\n",
    "\n",
    "\n",
    "\n",
    "\n",
    "b. $$ln(2x + 1)^3 =$$\n",
    "$$3 * ln(2x + 1)^2 * (ln(2x + 1))' = (6 ln(2x + 1)^2) / (2x + 1)$$\n",
    "\n",
    "\n",
    "c. \\$$\\sqrt{\\sin^2{\\ln{x^3}}}=$$\n",
    "$$\\frac{d}{dx}(\\sqrt{\\sin^2{\\ln{x^3}}}) = \\frac{3\\sqrt{\\sin^2{\\ln{x^3}}} \\cot{\\ln{x^3}}}{x}$$\n",
    "\n",
    "\n",
    "$$√ sin^2(ln(x^3)) = (|sin(3ln(x))|)' = (sin(3 ln(x))) / (|sin(3 ln(x))|)  *  (sin(3 ln(x)))' =\n",
    "    (3 cos(3 ln(x)) sin(3 ln(x)))  /  x|sin(3 ln(x))|$$\n",
    "\n",
    "\n",
    "\n",
    "\n",
    "d. $$\\frac{x^4}{\\ln{x}}=$$\n",
    "\n",
    "\n",
    "\n",
    "\n",
    "$$\\frac{d}{dx}(\\frac{x^4}{ln{x}}) = \\frac{x^3(4\\ln{x} - 1)}{\\ln{x}^2}$$\n",
    "\n",
    "\n",
    "   \n",
    "   \n",
    "\n",
    "\n",
    "$$x^4 / ln(x) = (x^4)' * ln(x) - x^4 * (ln(x))'  /  ln(x)^2 = 4*x^3*ln(x) - 1/x*x^4  /  ln(x)^2 = \n",
    "   = 4*x^3*ln(x) - x^3  /  ln(x)^2 $$   \n",
    "   \n",
    "\n",
    "\n"
   ]
  },
  {
   "cell_type": "markdown",
   "id": "6b6da661-d378-455c-9d17-b98f5cad1a31",
   "metadata": {},
   "source": [
    "2.Найти выражение производной функции и ее значение в точке:\n",
    "\n",
    "\n",
    "$$f(x) = \\cos{(x^2 - 3x)}, x_0 = \\sqrt{\\pi}$$\n",
    "$$f(x) = \\cos{((\\pi - 3\\sqrt{\\pi})} = - \\cos{3\\sqrt{\\pi}}$$\n",
    "\n",
    "\n"
   ]
  },
  {
   "cell_type": "markdown",
   "id": "a15012ad-07cc-4783-9f4d-dd23f1df2045",
   "metadata": {},
   "source": [
    "3.Найти значение производной функции в точке\n",
    "\n",
    "$$f(x) = \\frac{x^3 - x^2 - x - 1}{1 + 2x + 3x^2 - 4x^3}, x_0 = 0$$\n",
    "\n",
    "$$f'(x) = - \\frac{x^4 + 4x^3 + 8x^2 - 4x - 1}{(-4x^3 + 3x^2 + 2x + 1)^2} = - \\frac{-1}{1} = 1$$\n",
    "\n"
   ]
  },
  {
   "cell_type": "markdown",
   "id": "f77311ba-d7f1-4759-af9c-b8eed70617e6",
   "metadata": {},
   "source": [
    "4.Найти угол наклона касательной к графику функции в точке\n",
    "\n",
    "\n",
    "\n",
    "$$f(x) = \\sqrt{3x}\\ln{x}, x_0 = 1$$\n",
    "\n",
    "\n",
    "\n",
    "\n",
    "$$f'(x) = \\frac{\\sqrt{3}(\\ln{x} + 2)}{2\\sqrt{x}} = \\frac{2\\sqrt{3}}{2} = \\sqrt{3}$$\n",
    "\n",
    "\n",
    "$$\\tan{a} = \\sqrt{3} => a = 60 deg$$\n",
    "\n",
    "\n",
    "\n",
    "\n",
    "\n",
    "\n",
    "\n"
   ]
  }
 ],
 "metadata": {
  "kernelspec": {
   "display_name": "Python 3 (ipykernel)",
   "language": "python",
   "name": "python3"
  },
  "language_info": {
   "codemirror_mode": {
    "name": "ipython",
    "version": 3
   },
   "file_extension": ".py",
   "mimetype": "text/x-python",
   "name": "python",
   "nbconvert_exporter": "python",
   "pygments_lexer": "ipython3",
   "version": "3.9.15"
  }
 },
 "nbformat": 4,
 "nbformat_minor": 5
}

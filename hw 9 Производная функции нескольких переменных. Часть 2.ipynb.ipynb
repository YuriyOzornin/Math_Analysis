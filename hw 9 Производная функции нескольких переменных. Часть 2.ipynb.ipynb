{
 "cells": [
  {
   "cell_type": "markdown",
   "id": "6cc22a94-7238-4a26-a52f-8f14911da01a",
   "metadata": {},
   "source": [
    "\n",
    "#### hw 9"
   ]
  },
  {
   "cell_type": "markdown",
   "id": "c296a9ae-b6c0-44c9-9c5c-09654ff0dbf3",
   "metadata": {},
   "source": [
    "1. Найти $\\frac{dz}{dt}$ , если\n",
    "\n",
    "$z = z(x; y),$\n",
    "\n",
    "$x = x(t),$\n",
    "\n",
    "$y = y(t):$\n",
    "\n",
    "$z = x^2 + y^2 + xy,$\n",
    "\n",
    "$x = a sin t,$\n",
    "$y = a cost;$"
   ]
  },
  {
   "cell_type": "markdown",
   "id": "2c88583a-43d7-46d7-863a-f234165b2238",
   "metadata": {},
   "source": [
    "Решение:\n",
    "\n",
    "Решение: Заметим, что $z$ зависит только от $x$ и $y$, поэтому воспользуемся правилом дифференцирования сложной функции:\n",
    "\n",
    "$\\frac{dz}{dt} = \\frac{\\partial z}{\\partial x}\\frac{dx}{dt}+\\frac{\\partial z}{\\partial y}\\frac{dy}{dt}$.\n",
    "\n",
    "Вычислим частные производные $\\frac{\\partial z}{\\partial x}$ и $\\frac{\\partial z}{\\partial y}$:\n",
    "\n",
    "$\\frac{\\partial z}{\\partial x} = 2x+y,\\quad \\frac{\\partial z}{\\partial y} = x+2y$.\n",
    "\n",
    "Подставляем известные значения $x$ и $y$:\n",
    "\n",
    "$\\frac{\\partial z}{\\partial x} = 2a\\sin t+ a\\cos t,\\quad$\n",
    "\n",
    "$\\frac{\\partial z}{\\partial y} = a\\sin t+2a\\cos t.$\n",
    "\n",
    "Найдем значения $\\frac{dx}{dt}$ и $\\frac{dy}{dt}$:\n",
    "\n",
    "$\\frac{dx}{dt} = a\\cos t,\\quad \\frac{dy}{dt} = -a\\sin t$.\n",
    "\n",
    "Подставляем все значения в формулу для $\\frac{dz}{dt}$ и упрощаем:\n",
    "\n",
    "$\\frac{dz}{dt} = (2a\\sin t+ a\\cos t) \\cdot a\\cos t + (a\\sin t+2a\\cos t)\\cdot (-a\\sin t) = -a^2$\n",
    "\n",
    "Ответ: $\\frac{dz}{dt} = -a^2.$"
   ]
  },
  {
   "cell_type": "markdown",
   "id": "f2b77179-bf8b-45a8-91ac-a6e49a8103cc",
   "metadata": {},
   "source": [
    "2. Для данных \n",
    "\n",
    "$z = f(x; y),$\\\n",
    "$x = x(u; v),$\\\n",
    "$y = y(u; v)$\n",
    "\n",
    "найти $\\frac{dz}{du}$,$\\frac{dz}{dv}$ и $dz$:\n",
    "\n",
    "$z = x^3 + y^3$,\n",
    "\n",
    "где x = uv,\n",
    "$y =\\frac{u}{v}$\n"
   ]
  },
  {
   "cell_type": "markdown",
   "id": "a49354b0-a845-4bf7-b6b9-a5f1bc6e3dcb",
   "metadata": {},
   "source": [
    "Решение:\n",
    "\n",
    "Найдем сначала частные производные $z$ по $x$ и $y$:\n",
    "\n",
    "$\\frac{\\partial z}{\\partial x} = 3x^2 = 3u^2v^2$\n",
    "\n",
    "$\\frac{\\partial z}{\\partial y} = 3y^2 = 3\\frac{u^2}{v^2}$\n",
    "\n",
    "Затем найдем частные производные $x$ и $y$ по $u$ и $v$:\n",
    "\n",
    "$\\frac{\\partial x}{\\partial u} = v$\n",
    "\n",
    "$\\frac{\\partial x}{\\partial v} = u$\n",
    "\n",
    "$\\frac{\\partial y}{\\partial u} = \\frac{1}{v}$\n",
    "\n",
    "$\\frac{\\partial y}{\\partial v} = -\\frac{u}{v^2}$\n",
    "\n",
    "Теперь, используя формулу для нахождения производной сложной функции, можем записать:\n",
    "\n",
    "$\\frac{dz}{du} = \\frac{\\partial z}{\\partial x}\\frac{\\partial x}{\\partial u} + \\frac{\\partial z}{\\partial y}\\frac{\\partial y}{\\partial u} = 3u^2v^2v + 3\\frac{u^2}{v^2}\\frac{1}{v} = 3u^2v^3 + 3\\frac{u^2}{v^3}$\n",
    "\n",
    "$\\frac{dz}{dv} = \\frac{\\partial z}{\\partial x}\\frac{\\partial x}{\\partial v} + \\frac{\\partial z}{\\partial y}\\frac{\\partial y}{\\partial v} = 3u^2v^2u + 3\\frac{u^2}{v^2}\\left(-\\frac{u}{v^2}\\right) = 3u^3v^2 - 3\\frac{u^3}{v^4}$\n",
    "\n",
    "$dz = \\frac{\\partial z}{\\partial x}dx + \\frac{\\partial z}{\\partial y}dy = 3u^2v^2du + 3\\frac{u^2}{v^2}d\\left(\\frac{u}{v}\\right) = 3u^2v^2du + 3\\frac{u^2}{v^2}\\left(\\frac{vdu-u dv}{v^2}\\right) = 3u^2v^2du - 3\\frac{u^2}{v^3}u dv$\n"
   ]
  },
  {
   "cell_type": "markdown",
   "id": "96c3be0a-28ff-4044-b208-f7ddcd193624",
   "metadata": {},
   "source": [
    "3. Найти производные ${y'(x)}$ неявных функций, заданных уравнениями:\n",
    "\n",
    "$xe^{2y} − y ln x = 8.$"
   ]
  },
  {
   "cell_type": "markdown",
   "id": "eed77b69-e803-433b-b378-4b35f2cff103",
   "metadata": {},
   "source": [
    "Решение:\n",
    "\n",
    "Применяем правило дифференцирования сложной функции:\n",
    "\n",
    "$\\frac{d}{dx}(xe^{2y}-y\\ln{x})=e^{2y}\\frac{dy}{dx}+2xy'-\\frac{y}{x}$\n",
    "\n",
    "Решаем уравнение относительно $y'$:\n",
    "\n",
    "$e^{2y}y'+2xy'=\\frac{y}{x}-e^{2y}\\frac{dy}{dx}$\n",
    "\n",
    "$y'+2xy'\\frac{dx}{dy}=\\frac{y}{x}\\frac{dx}{dy}-e^{2y}$\n",
    "\n",
    "$\\frac{dy}{dx}=\\frac{\\frac{y}{x}-e^{2y}}{2xy'-e^{2y}}$\n",
    "\n",
    "Подставляем значения $y$ и $y'$:\n",
    "\n",
    "$y(x)=\\frac{\\ln{x+8}}{2}$\n",
    "\n",
    "$y'(x)=\\frac{\\frac{1}{x}-2\\cdot\\frac{\\ln{x+8}}{(x+8)^2}}{\\frac{x\\cdot\\ln{x}-8}{(x+8)^2}-\\frac{e^{\\ln{x+8}}}{2}}$\n",
    "\n",
    "$y'(x)=\\frac{(x+8)\\ln{x}-8x-16(x+8)\\ln{x}+16x\\ln{x}+16x}{2x(x\\ln{x}-8)-e^{\\ln{x+8}}(x+8)^2}$\n",
    "\n",
    "$y'(x)=\\frac{-x\\ln{x}+8x+16(x+4)\\ln{x}-64}{2x(x\\ln{x}-8)-(x+8)^2}$"
   ]
  },
  {
   "cell_type": "markdown",
   "id": "2aee6961-4f1f-40ce-a47c-1da8827ce68e",
   "metadata": {},
   "source": [
    "4. Составить уравнение касательной прямой и нормали к\n",
    "кривой $y = y(x)$, заданной уравнением $F(x; y) = 0$ в точке\n",
    "$M_0(x0; y0)$:\n",
    "$x^3y − y^3x = 6$, \n",
    "\n",
    "$M_0(2; 1).$"
   ]
  },
  {
   "cell_type": "markdown",
   "id": "49559534-6623-4a9e-be76-cd3791c8e694",
   "metadata": {},
   "source": [
    "Решение:\n",
    "\n",
    "Найдем производные по $x$:\n",
    "\n",
    "$F_x = 3x^2y - y^3$\n",
    "\n",
    "$F_y = x^3 - 3y^2x$\n",
    "\n",
    "В точке $M_0$:\n",
    "\n",
    "$F(2,1) = 2 \\cdot 1^3 - 1 \\cdot 2^3 = -12$\n",
    "\n",
    "$F_x(2,1) = 3 \\cdot 2^2 \\cdot 1 - 1^3 = 11$\n",
    "\n",
    "$F_y(2,1) = 2^3 - 3 \\cdot 1^2 \\cdot 2 = -4$\n",
    "\n",
    "Уравнение касательной прямой к кривой в точке $M_0$:\n",
    "\n",
    "$y - y_0 = F_x(x_0,y_0) \\cdot (x-x_0)$\n",
    "\n",
    "$y - 1 = 11 \\cdot (x-2)$\n",
    "\n",
    "$y = 11x - 21$\n",
    "\n",
    "Уравнение нормали к кривой в точке $M_0$:\n",
    "\n",
    "$y - y_0 = -\\frac{1}{F_y(x_0,y_0)} \\cdot (x-x_0)$\n",
    "\n",
    "$y - 1 = \\frac{1}{4}(x-2)$\n",
    "\n",
    "$y = \\frac{1}{4}x + \\frac{3}{4}$"
   ]
  },
  {
   "cell_type": "markdown",
   "id": "bce88fb4-372f-4e21-8314-1f14e7421c48",
   "metadata": {},
   "source": [
    "5. Для данных функций найти требуемую частную производную или дифференциал:\n",
    "\n",
    "a) $z = sin{x} \\cdot  sin{y}, d^2 z$;\n",
    "\n",
    "b) $z = xy + sin(x + y), \\frac{\\partial^2 z}{\\partial x^2}$;"
   ]
  },
  {
   "cell_type": "markdown",
   "id": "0d413316-770f-42ba-845f-092360ba2411",
   "metadata": {},
   "source": [
    "Решение:\n",
    "\n",
    "a) $\\frac{\\partial z}{\\partial x} = cos x \\cdot sin y, \\frac{\\partial z}{\\partial y} = sin x \\cdot cos y.$\n",
    "\n",
    "Тогда воспользуемся формулой для вычисления второго дифференциала функции:\n",
    "\n",
    "$d^2 z = \\frac{\\partial^2 z}{\\partial x^2} dx^2 + 2 \\frac{\\partial^2 z}{\\partial x \\partial y} dxdy + \\frac{\\partial^2 z}{\\partial y^2} dy^2.$\n",
    "\n",
    "Найдем частные производные:\n",
    "\n",
    "$\\frac{\\partial^2 z}{\\partial x^2} = -sin x \\cdot sin y, \\frac{\\partial^2 z}{\\partial x \\partial y} = cos x \\cdot cos y, \\frac{\\partial^2 z}{\\partial y^2} = -sin x \\cdot sin y.$\n",
    "\n",
    "Тогда подставляем значения:\n",
    "\n",
    "$d^2 z = (-sin x \\cdot sin y)(dx)^2 + 2(cos x \\cdot cos y)(dxdy) + (-sin x \\cdot sin y)(dy)^2.$\n",
    "\n",
    "b) $\\frac{\\partial z}{\\partial x} = y + cos(x + y), \\frac{\\partial^2 z}{\\partial x^2} = -sin(x+y).$\n",
    "\n",
    "Ответ: $\\frac{\\partial^2 z}{\\partial x^2} = -sin(x+y).$"
   ]
  },
  {
   "cell_type": "markdown",
   "id": "696adb41-c1d0-42c9-9646-a6ed0a091372",
   "metadata": {},
   "source": []
  }
 ],
 "metadata": {
  "kernelspec": {
   "display_name": "Python 3 (ipykernel)",
   "language": "python",
   "name": "python3"
  },
  "language_info": {
   "codemirror_mode": {
    "name": "ipython",
    "version": 3
   },
   "file_extension": ".py",
   "mimetype": "text/x-python",
   "name": "python",
   "nbconvert_exporter": "python",
   "pygments_lexer": "ipython3",
   "version": "3.9.15"
  }
 },
 "nbformat": 4,
 "nbformat_minor": 5
}
